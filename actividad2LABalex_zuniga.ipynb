{
 "cells": [
  {
   "cell_type": "markdown",
   "id": "463ec841",
   "metadata": {},
   "source": [
    "<img src=\"https://www.unir.net/wp-content/uploads/2019/11/Unir_2021_logo.svg\" width=\"240\" height=\"240\" align=\"right\"/>"
   ]
  },
  {
   "cell_type": "markdown",
   "id": "ba956ae8",
   "metadata": {},
   "source": [
    "# Actividad 2 (Laboratorio): montículos y cola de prioridad"
   ]
  },
  {
   "cell_type": "markdown",
   "id": "b4a2fcb6",
   "metadata": {},
   "source": [
    "Presentado por: Alex Zúñiga García <br>\n",
    "25 de mayo del 2022"
   ]
  },
  {
   "cell_type": "markdown",
   "id": "aa1cf3c6",
   "metadata": {},
   "source": [
    "---"
   ]
  },
  {
   "cell_type": "markdown",
   "id": "b6cfcf97",
   "metadata": {},
   "source": [
    "##### Hay varios estudiantes en una escuela que esperan ser atendidos. Pueden tener lugar dos tipos de eventos con ellos, ENTER y SERVED, que se describen a continuación.\n",
    "\n",
    "+\tENTER: un alumno con alguna prioridad entra a la cola para ser atendido.\n",
    "+\tSERVED: el estudiante con la prioridad más alta es servido (eliminado) de la cola.\n",
    "\n",
    "##### Se asigna un identificador único a cada estudiante que ingresa a la cola. La cola sirve a los estudiantes según los siguientes criterios (criterios de prioridad):\n",
    "\n",
    "+\tEl estudiante que tenga el promedio acumulado de calificaciones más alto (CGPA) recibe el servicio primero.\n",
    "+\tCualquier estudiante que tenga el mismo CGPA será atendido por su nombre en orden alfabético ascendente que distingue entre mayúsculas y minúsculas.\n",
    "+\tTodos los estudiantes que tengan el mismo CGPA y el mismo nombre serán atendidos en orden ascendente de identificación.\n",
    " \n",
    " \n",
    "##### Implementa las dos siguientes clases:\n",
    "\n",
    "Estudiante, el cual tendrá:\n",
    "+\tUn constructor con un identificador de estudiante, nombre y una CGPA.\n",
    "+\tUn método que devuelva el _id del estudiante.\n",
    "+\tUn método que devuelva el nombre del estudiante.\n",
    "+\tUn método que devuelva el CGPA del estudiante.\n",
    "\n",
    "\n",
    "ColaPrioritaria, el cual tendrá:\n",
    "+\tUn método dameEstudiantes, para procesar todos los eventos dados y devolver a todos los estudiantes que aún no han sido atendidos en el orden de prioridad.\n",
    "\n",
    "+   Un método para añadir un estudiante a la cola\n",
    "+   Un método para sacar un estudiante a la cola\n",
    "\n",
    "##### Restricciones de datos:\n",
    "\n",
    "\t2 <= n <= 1000\n",
    "\t0 <= CGPA <= 4.0\n",
    "\t1 <= id <= 105\n",
    "\t2 <= |nombre| <= 30\n",
    "\n",
    "\n",
    "##### Formato de salida:\n",
    "\n",
    "Se deben mostrar los nombres de los estudiantes que aún no se han servido por orden de prioridad. Si no hay estudiantes debe escribir ‘EMPTY’.\n",
    "\n"
   ]
  },
  {
   "cell_type": "code",
   "execution_count": 15,
   "id": "1c832cec",
   "metadata": {
    "scrolled": true
   },
   "outputs": [
    {
     "name": "stdout",
     "output_type": "stream",
     "text": [
      "ENTER mario 1.2 100\n",
      "ENTER juan 3.5 98\n",
      "ENTER rodrigo 3.9 54\n",
      "ENTER pedro 2.7 59\n",
      "SERVED\n",
      "ENTER carlos 2 71\n",
      "ENTER alex 4 12\n",
      "SERVED\n",
      "SERVED\n"
     ]
    }
   ],
   "source": [
    "from heapq import *\n",
    "\n",
    " \n",
    "class ColaPrioritaria:  # ColaPrioritaria es nuestra clase que procesará a los objetos estudiantes\n",
    "    \n",
    "    class Estudiante:   #para ser mas compacto el código incluimos la clase estudiante a nuestra cola de prioridad\n",
    "        def __init__(self, nombre, calificacion, ident): #Constructor que recibe como parámetros los datos del estudiante\n",
    "            self.nombre = nombre\n",
    "            self.calificacion = calificacion\n",
    "            self.ident = ident\n",
    "        \n",
    "        def __str__(self): #Método mágico que devuelve una cadena de caracteres con los datos del estudiante\n",
    "            return str(self.nombre) + \" \" + str(self.calificacion) + \" \" + str(self.ident)\n",
    "             \n",
    "        def __lt__(self, otro): #Método mágico que ordena los objetos en función de las prioridades dadas en el enunciado\n",
    "            if self.calificacion != otro.calificacion:\n",
    "                return self.calificacion > otro.calificacion\n",
    "            elif self.calificacion == otro.calificacion:\n",
    "                return self.nombre < otro.nombre\n",
    "            else:\n",
    "                return self.ident > otro.ident\n",
    "            \n",
    "        def nombre_alumno(self): # Método que retorna el  atributo nombre del estudiante\n",
    "            return self.nombre\n",
    "        \n",
    "        def calificacion_alumno(self): # Método que retorna el  atributo calificación del estudiante\n",
    "            return self.calificacion\n",
    "    \n",
    "        def identificacion_alumno(self): # Método que retorna el  atributo identificación del estudiante\n",
    "            return self.ident\n",
    "                     \n",
    "        \n",
    "    def __init__(self): # Constructor de nuestra cola de prioridad\n",
    "        self.elementos = [] #Lista que almacena a los objetos estudiantes\n",
    "                         \n",
    "    def ENTER(self, elemento1, elemento2, elemento3): # Método que ingresa al objeto de la clase Estudiante a una lista\n",
    "        self.elementos.append(self.Estudiante(elemento1, elemento2, elemento3))\n",
    "        print(f'ENTER {self.Estudiante(elemento1, elemento2, elemento3)}')\n",
    "            \n",
    "    def dameEstudiante(self): #Método que devuelve los estudiantes que aún esperan por orden de prioridad\n",
    "        heapify(self.elementos) #convertimos la lista en un montículo\n",
    "        if len(self.elementos) == 0:\n",
    "            print('EMPTY')\n",
    "        else:\n",
    "            print('Output')\n",
    "            for t in self.elementos: #Bucle for que devuelve los estudiantes restantes de la cola de prioridad\n",
    "                print(t)\n",
    "           \n",
    "    def SERVER(self): # Método que elimina al objeto de la clase Estudiante con la mayor prioridad\n",
    "        heapify(self.elementos) #convertimos la lista en un montículo\n",
    "        if len(self.elementos) == 0:\n",
    "            print('EMPTY')\n",
    "        else:\n",
    "            heappop(self.elementos) #Eliminamos el objeto con la mayor prioridad\n",
    "            print('SERVED')\n",
    "  \n",
    "\n",
    " # Proceso en donde ingresamos y servimos estudiantes por medio de la clase ColaPrioritaria y\n",
    " #  sus métodos ENTER y SERVER\n",
    "      \n",
    "b = ColaPrioritaria()\n",
    "\n",
    "b.ENTER('mario', 1.2, 100) #Evento ENTER\n",
    "b.ENTER('juan', 3.5, 98)\n",
    "b.ENTER('rodrigo', 3.9, 54)\n",
    "b.ENTER('pedro', 2.7, 59)\n",
    "b.SERVER()                 #Evento SERVER\n",
    "b.ENTER('carlos', 2, 71)\n",
    "b.ENTER('alex', 4, 12)\n",
    "b.SERVER()\n",
    "b.SERVER()\n"
   ]
  },
  {
   "cell_type": "code",
   "execution_count": 16,
   "id": "dbb6073d",
   "metadata": {},
   "outputs": [
    {
     "name": "stdout",
     "output_type": "stream",
     "text": [
      "Output\n",
      "pedro 2.7 59\n",
      "carlos 2 71\n",
      "mario 1.2 100\n"
     ]
    }
   ],
   "source": [
    "# Invocación del método dameEstudiante que devuelve los estudiantes que aú esperan por orden de prioridad\n",
    "b.dameEstudiante()"
   ]
  },
  {
   "cell_type": "code",
   "execution_count": 3,
   "id": "e923eac5",
   "metadata": {},
   "outputs": [
    {
     "data": {
      "text/plain": [
       "'oscar'"
      ]
     },
     "execution_count": 3,
     "metadata": {},
     "output_type": "execute_result"
    }
   ],
   "source": [
    "# Invocación del atributo nombre perteneciente a la clase Estudiante\n",
    "k = ColaPrioritaria().Estudiante('oscar', 2.2, 101)\n",
    "k.nombre_alumno()\n"
   ]
  }
 ],
 "metadata": {
  "kernelspec": {
   "display_name": "Python 3 (ipykernel)",
   "language": "python",
   "name": "python3"
  },
  "language_info": {
   "codemirror_mode": {
    "name": "ipython",
    "version": 3
   },
   "file_extension": ".py",
   "mimetype": "text/x-python",
   "name": "python",
   "nbconvert_exporter": "python",
   "pygments_lexer": "ipython3",
   "version": "3.9.7"
  }
 },
 "nbformat": 4,
 "nbformat_minor": 5
}
